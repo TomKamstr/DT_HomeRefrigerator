{
 "cells": [
  {
   "cell_type": "code",
   "execution_count": 14,
   "metadata": {},
   "outputs": [
    {
     "name": "stdout",
     "output_type": "stream",
     "text": [
      "{'success': True, 'msg': None, 'data': {'attribution': 'Data provided by buienradar.nl', 'forecast': [{'condition': {'condcode': 'q', 'condition': 'rainy', 'detailed': 'rainy', 'exact': 'Heavily clouded with rain', 'exact_nl': 'Zwaar bewolkt en regen', 'night': False, 'image': 'https://www.buienradar.nl/resources/images/icons/weather/30x30/q.png'}, 'temperature': 15.0, 'mintemp': 11.0, 'maxtemp': 15.0, 'sunchance': 20, 'rainchance': 80, 'rain': 10.0, 'minrain': 5.0, 'maxrain': 15.0, 'snow': 0, 'windforce': 3, 'windspeed': 3.6, 'winddirection': 'W', 'windazimuth': 270, 'datetime': datetime.datetime(2023, 5, 10, 0, 0, tzinfo=<DstTzInfo 'Europe/Amsterdam' CEST+2:00:00 DST>)}, {'condition': {'condcode': 'f', 'condition': 'rainy', 'detailed': 'partlycloudy-light-rain', 'exact': 'Alternatingly cloudy with some light rain', 'exact_nl': 'Afwisselend bewolkt met (mogelijk) wat lichte regen', 'night': False, 'image': 'https://www.buienradar.nl/resources/images/icons/weather/30x30/f.png'}, 'temperature': 17.0, 'mintemp': 8.0, 'maxtemp': 18.0, 'sunchance': 30, 'rainchance': 60, 'rain': 1.5, 'minrain': 1.0, 'maxrain': 2.0, 'snow': 0, 'windforce': 2, 'windspeed': 2.06, 'winddirection': 'Z', 'windazimuth': 180, 'datetime': datetime.datetime(2023, 5, 11, 0, 0, tzinfo=<DstTzInfo 'Europe/Amsterdam' CEST+2:00:00 DST>)}, {'condition': {'condcode': 'f', 'condition': 'rainy', 'detailed': 'partlycloudy-light-rain', 'exact': 'Alternatingly cloudy with some light rain', 'exact_nl': 'Afwisselend bewolkt met (mogelijk) wat lichte regen', 'night': False, 'image': 'https://www.buienradar.nl/resources/images/icons/weather/30x30/f.png'}, 'temperature': 19.0, 'mintemp': 9.0, 'maxtemp': 20.0, 'sunchance': 30, 'rainchance': 40, 'rain': 2.0, 'minrain': 1.0, 'maxrain': 3.0, 'snow': 0, 'windforce': 4, 'windspeed': 5.66, 'winddirection': 'NO', 'windazimuth': 45, 'datetime': datetime.datetime(2023, 5, 12, 0, 0, tzinfo=<DstTzInfo 'Europe/Amsterdam' CEST+2:00:00 DST>)}, {'condition': {'condcode': 'b', 'condition': 'cloudy', 'detailed': 'partlycloudy', 'exact': 'Mix of clear and medium or low clouds', 'exact_nl': 'Mix van opklaringen en middelbare of lage bewolking', 'night': False, 'image': 'https://www.buienradar.nl/resources/images/icons/weather/30x30/b.png'}, 'temperature': 20.0, 'mintemp': 10.0, 'maxtemp': 21.0, 'sunchance': 50, 'rainchance': 20, 'rain': 0.0, 'minrain': 0.0, 'maxrain': 0.0, 'snow': 0, 'windforce': 3, 'windspeed': 3.6, 'winddirection': 'NO', 'windazimuth': 45, 'datetime': datetime.datetime(2023, 5, 13, 0, 0, tzinfo=<DstTzInfo 'Europe/Amsterdam' CEST+2:00:00 DST>)}, {'condition': {'condcode': 'f', 'condition': 'rainy', 'detailed': 'partlycloudy-light-rain', 'exact': 'Alternatingly cloudy with some light rain', 'exact_nl': 'Afwisselend bewolkt met (mogelijk) wat lichte regen', 'night': False, 'image': 'https://www.buienradar.nl/resources/images/icons/weather/30x30/f.png'}, 'temperature': 20.0, 'mintemp': 8.0, 'maxtemp': 21.0, 'sunchance': 40, 'rainchance': 40, 'rain': 1.0, 'minrain': 0.0, 'maxrain': 2.0, 'snow': 0, 'windforce': 3, 'windspeed': 3.6, 'winddirection': 'O', 'windazimuth': 90, 'datetime': datetime.datetime(2023, 5, 14, 0, 0, tzinfo=<DstTzInfo 'Europe/Amsterdam' CEST+2:00:00 DST>)}], 'precipitation_forecast': {'average': 0.79, 'total': 0.79, 'timeframe': 60}, 'barometerfc': 4, 'barometerfcname': 'Cloudy', 'barometerfcnamenl': 'Bewolkt', 'humidity': 94, 'groundtemperature': 14.6, 'irradiance': 72, 'measured': datetime.datetime(2023, 5, 9, 17, 20, tzinfo=<DstTzInfo 'Europe/Amsterdam' CEST+2:00:00 DST>), 'precipitation': 1.8, 'pressure': 1008.9, 'stationname': 'De Bilt (6260)', 'condition': {'condcode': 'q', 'condition': 'rainy', 'detailed': 'rainy', 'exact': 'Heavily clouded with rain', 'exact_nl': 'Zwaar bewolkt en regen', 'night': False, 'image': 'https://www.buienradar.nl/resources/images/icons/weather/30x30/q.png'}, 'rainlast24hour': 11.9, 'rainlasthour': 1.3, 'temperature': 14.4, 'feeltemperature': 14.4, 'visibility': 9550, 'windspeed': 3.2, 'windforce': 2, 'winddirection': 'Z', 'windazimuth': 187, 'windgust': 5.0}, 'distance': 15.484794}\n"
     ]
    }
   ],
   "source": [
    "from buienradar.buienradar import (get_data, parse_data)\n",
    "\n",
    "from buienradar.constants import (CONTENT, RAINCONTENT, SUCCESS)\n",
    "\n",
    "\n",
    "\n",
    "# minutes to look ahead for precipitation forecast\n",
    "\n",
    "# (5..120)\n",
    "\n",
    "timeframe = 60\n",
    "\n",
    "\n",
    "\n",
    "# gps-coordinates for the weather data\n",
    "\n",
    "latitude = 52.156\n",
    "\n",
    "longitude = 5.387\n",
    "\n",
    "\n",
    "\n",
    "result = get_data(latitude=latitude,\n",
    "\n",
    "                  longitude=longitude,\n",
    "\n",
    "                  )\n",
    "\n",
    "\n",
    "\n",
    "if result.get(SUCCESS):\n",
    "\n",
    "    data = result[CONTENT]\n",
    "\n",
    "    raindata = result[RAINCONTENT]\n",
    "\n",
    "\n",
    "\n",
    "    result = parse_data(data, raindata, latitude, longitude, timeframe)\n",
    "\n",
    "\n",
    "\n",
    "print(result)"
   ]
  },
  {
   "cell_type": "code",
   "execution_count": 15,
   "metadata": {},
   "outputs": [
    {
     "name": "stdout",
     "output_type": "stream",
     "text": [
      "{'condition': {'condcode': 'q',\n",
      "               'condition': 'rainy',\n",
      "               'detailed': 'rainy',\n",
      "               'exact': 'Heavily clouded with rain',\n",
      "               'exact_nl': 'Zwaar bewolkt en regen',\n",
      "               'image': 'https://www.buienradar.nl/resources/images/icons/weather/30x30/q.png',\n",
      "               'night': False},\n",
      " 'datetime': datetime.datetime(2023, 5, 10, 0, 0, tzinfo=<DstTzInfo 'Europe/Amsterdam' CEST+2:00:00 DST>),\n",
      " 'maxrain': 15.0,\n",
      " 'maxtemp': 15.0,\n",
      " 'minrain': 5.0,\n",
      " 'mintemp': 11.0,\n",
      " 'rain': 10.0,\n",
      " 'rainchance': 80,\n",
      " 'snow': 0,\n",
      " 'sunchance': 20,\n",
      " 'temperature': 15.0,\n",
      " 'windazimuth': 270,\n",
      " 'winddirection': 'W',\n",
      " 'windforce': 3,\n",
      " 'windspeed': 3.6}\n"
     ]
    }
   ],
   "source": [
    "import pprint\n",
    "pprint.pprint(result['data']['forecast'][0])"
   ]
  },
  {
   "cell_type": "code",
   "execution_count": null,
   "metadata": {},
   "outputs": [],
   "source": []
  }
 ],
 "metadata": {
  "kernelspec": {
   "display_name": "base",
   "language": "python",
   "name": "python3"
  },
  "language_info": {
   "codemirror_mode": {
    "name": "ipython",
    "version": 3
   },
   "file_extension": ".py",
   "mimetype": "text/x-python",
   "name": "python",
   "nbconvert_exporter": "python",
   "pygments_lexer": "ipython3",
   "version": "3.9.12"
  },
  "orig_nbformat": 4
 },
 "nbformat": 4,
 "nbformat_minor": 2
}
