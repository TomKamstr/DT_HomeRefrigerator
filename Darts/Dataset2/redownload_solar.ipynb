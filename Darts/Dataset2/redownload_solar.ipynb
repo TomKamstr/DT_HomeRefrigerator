{
 "cells": [
  {
   "cell_type": "code",
   "execution_count": 1,
   "metadata": {},
   "outputs": [],
   "source": [
    "import pandas as pd\n",
    "import numpy as np"
   ]
  },
  {
   "cell_type": "code",
   "execution_count": 2,
   "metadata": {},
   "outputs": [],
   "source": [
    "data_inside_filtered = pd.read_csv('data_inside.csv')"
   ]
  },
  {
   "cell_type": "code",
   "execution_count": 3,
   "metadata": {},
   "outputs": [],
   "source": [
    "from get_solar_panel import SolarPanel"
   ]
  },
  {
   "cell_type": "code",
   "execution_count": 4,
   "metadata": {},
   "outputs": [
    {
     "name": "stdout",
     "output_type": "stream",
     "text": [
      "2023-05-08 2023-05-14\n"
     ]
    }
   ],
   "source": [
    "# get start and end time of data\n",
    "start_time_time = str(data_inside_filtered['time'].iloc[0])\n",
    "end_time_time = str(data_inside_filtered['time'].iloc[-1])\n",
    "start_time = start_time_time.split(' ')[0]\n",
    "end_time = end_time_time.split(' ')[0]\n",
    "print(start_time, end_time)\n",
    "# get solar energy data\n",
    "solar_panel = SolarPanel(start_time, end_time, power_or_energy='power')\n",
    "df_solar = solar_panel.get_df()\n",
    "# convert to datetime\n",
    "df_solar['date'] = pd.to_datetime(df_solar['date'])\n",
    "# filter to only between start and end time time\n",
    "df_solar = df_solar[(df_solar['date'] >= start_time_time) & (df_solar['date'] <= end_time_time)]\n",
    "df_solar.to_csv('new_solar_data.csv')"
   ]
  },
  {
   "cell_type": "code",
   "execution_count": null,
   "metadata": {},
   "outputs": [],
   "source": []
  }
 ],
 "metadata": {
  "kernelspec": {
   "display_name": "darts_test",
   "language": "python",
   "name": "python3"
  },
  "language_info": {
   "codemirror_mode": {
    "name": "ipython",
    "version": 3
   },
   "file_extension": ".py",
   "mimetype": "text/x-python",
   "name": "python",
   "nbconvert_exporter": "python",
   "pygments_lexer": "ipython3",
   "version": "3.9.16"
  },
  "orig_nbformat": 4
 },
 "nbformat": 4,
 "nbformat_minor": 2
}
